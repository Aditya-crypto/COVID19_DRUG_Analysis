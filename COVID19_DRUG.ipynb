{
 "cells": [
  {
   "cell_type": "code",
   "execution_count": 0,
   "metadata": {
    "colab": {},
    "colab_type": "code",
    "id": "YlS1eftjgEuM"
   },
   "outputs": [],
   "source": [
    "!pip install git+https://github.com/samoturk/mol2vec;"
   ]
  },
  {
   "cell_type": "code",
   "execution_count": 0,
   "metadata": {
    "colab": {},
    "colab_type": "code",
    "id": "KiY85yacgGeM"
   },
   "outputs": [],
   "source": [
    "# Install RDKit. Takes 2-3 minutes\n",
    "!wget -c https://repo.continuum.io/miniconda/Miniconda3-latest-Linux-x86_64.sh\n",
    "!chmod +x Miniconda3-latest-Linux-x86_64.sh\n",
    "!time bash ./Miniconda3-latest-Linux-x86_64.sh -b -f -p /usr/local\n",
    "!time conda install -q -y -c conda-forge rdkit"
   ]
  },
  {
   "cell_type": "code",
   "execution_count": 0,
   "metadata": {
    "colab": {},
    "colab_type": "code",
    "id": "6_auxgNqgJV2"
   },
   "outputs": [],
   "source": [
    "import sys\n",
    "sys.path.append('/usr/local/lib/python3.7/site-packages/')"
   ]
  },
  {
   "cell_type": "code",
   "execution_count": 0,
   "metadata": {
    "colab": {},
    "colab_type": "code",
    "id": "q_OY4OPFgQe0"
   },
   "outputs": [],
   "source": [
    "from rdkit import Chem\n",
    "from rdkit.Chem import Draw\n",
    "from rdkit.Chem.Draw import IPythonConsole\n",
    "from rdkit.Chem import Descriptors\n",
    "from rdkit.Chem import AllChem\n",
    "from rdkit import DataStructs\n",
    "import numpy as np\n",
    "import pandas as pd\n",
    "from rdkit import Chem\n",
    "from rdkit.Chem import ChemicalFeatures\n",
    "from rdkit import RDConfig\n",
    "import os"
   ]
  },
  {
   "cell_type": "code",
   "execution_count": 0,
   "metadata": {
    "colab": {
     "base_uri": "https://localhost:8080/",
     "height": 260
    },
    "colab_type": "code",
    "id": "xuUDL2_egTXl",
    "outputId": "98940d7a-089a-4ecc-a66b-47e2bb15a94d"
   },
   "outputs": [
    {
     "name": "stdout",
     "output_type": "stream",
     "text": [
      "               SMILES sequence\n",
      "0         CCNC(C)C(NC)c1ccccc1\n",
      "1             CONC(=O)c1cncnc1\n",
      "2        CCNC1CCCN(Cc2ccsc2)C1\n",
      "3      CC(NC(=O)CSCCN)c1ccccc1\n",
      "4         CCC(CS)CN(C)c1ccccc1\n",
      "...                        ...\n",
      "8995  CC(O)CCNC(=O)CNCc1ccccc1\n",
      "8996     N#Cc1cccc(-c2cnsc2)n1\n",
      "8997    Cc1ccnc(NC(CN)C(C)C)c1\n",
      "8998          CC(=O)CCc1cncnc1\n",
      "8999       COCCC(=O)Nc1cnccc1C\n",
      "\n",
      "[9000 rows x 1 columns]\n"
     ]
    }
   ],
   "source": [
    "df= pd.read_csv('/content/drive/My Drive/A5Q3DB/train.csv')\n",
    "target = df['Binding Affinity']\n",
    "df.drop(columns='Binding Affinity',inplace=True)\n",
    "print(df)\n",
    "testdata=pd.read_csv('/content/drive/My Drive/A5Q3DB/test.csv')\n",
    "testdata.drop(columns='Binding Affinity',inplace=True)"
   ]
  },
  {
   "cell_type": "code",
   "execution_count": 0,
   "metadata": {
    "colab": {
     "base_uri": "https://localhost:8080/",
     "height": 260
    },
    "colab_type": "code",
    "id": "M7jaD3cAxcln",
    "outputId": "6099e6c8-cf7e-4364-cedf-29c4d4b123c5"
   },
   "outputs": [
    {
     "name": "stdout",
     "output_type": "stream",
     "text": [
      "              SMILES sequence  Binding Affinity\n",
      "0         CNC(=O)N(C)c1ncccn1               NaN\n",
      "1      O=C(Cc1ccccc1)c1ccccn1               NaN\n",
      "2                NC1C2CCSCC12               NaN\n",
      "3      CCC(C)C(N)(CC)c1ccccc1               NaN\n",
      "4      N#Cc1cccc(C2OCCC2=O)n1               NaN\n",
      "...                       ...               ...\n",
      "2495    CC(N)C(C)Nc1ncccc1C#N               NaN\n",
      "2496     CCCCOc1ccccc1C(=O)OC               NaN\n",
      "2497            NN1CC2CCCC1C2               NaN\n",
      "2498  CN1CCC(C(=O)O)c2ccccc21               NaN\n",
      "2499        NCC(=O)Nc1ncncc1N               NaN\n",
      "\n",
      "[2500 rows x 2 columns]\n"
     ]
    }
   ],
   "source": [
    "Finaltestdata=pd.read_csv('/content/drive/My Drive/A5Q3DB/f_test.csv')\n",
    "print(Finaltestdata)"
   ]
  },
  {
   "cell_type": "code",
   "execution_count": 0,
   "metadata": {
    "colab": {
     "base_uri": "https://localhost:8080/",
     "height": 260
    },
    "colab_type": "code",
    "id": "hjlXihnxVfhR",
    "outputId": "519e8fe0-51fa-48a4-877b-172fd8973f77"
   },
   "outputs": [
    {
     "name": "stdout",
     "output_type": "stream",
     "text": [
      "               SMILES sequence\n",
      "0         Cc1ccc(C2CNCCN2C)cc1\n",
      "1             CCOC(CO)c1ccccc1\n",
      "2            CC(=O)Nc1cnn(C)n1\n",
      "3             CCC(C)NCc1ncccn1\n",
      "4              CC(C)=C1CC(N)C1\n",
      "...                        ...\n",
      "2495    N#Cc1ncccc1N1CCC(=O)C1\n",
      "2496       CNCCSCc1cncc(C#N)c1\n",
      "2497   NC1=NC(=O)C(=CC(=O)O)S1\n",
      "2498  C=C(CC)CC(C)C(O)c1ccccc1\n",
      "2499         N#CCC(CN)c1cncnc1\n",
      "\n",
      "[2500 rows x 1 columns]\n"
     ]
    }
   ],
   "source": [
    "print(testdata)"
   ]
  },
  {
   "cell_type": "markdown",
   "metadata": {
    "colab_type": "text",
    "id": "-c8611kiEkyZ"
   },
   "source": [
    "## Getting MorganFingerprints of chemical molecule represented in vectors"
   ]
  },
  {
   "cell_type": "code",
   "execution_count": 0,
   "metadata": {
    "colab": {
     "base_uri": "https://localhost:8080/",
     "height": 156
    },
    "colab_type": "code",
    "id": "RVxHOl-bJe95",
    "outputId": "5e3a675d-3d91-4692-e334-217e49218b35"
   },
   "outputs": [
    {
     "name": "stdout",
     "output_type": "stream",
     "text": [
      "Index(['SMILES sequence', 'Binding Affinity'], dtype='object')\n",
      "[[0. 0. 0. ... 0. 0. 0.]\n",
      " [0. 0. 0. ... 0. 0. 0.]\n",
      " [0. 0. 0. ... 0. 0. 0.]\n",
      " ...\n",
      " [0. 0. 0. ... 0. 0. 0.]\n",
      " [0. 0. 0. ... 0. 0. 0.]\n",
      " [0. 0. 0. ... 0. 1. 0.]]\n"
     ]
    }
   ],
   "source": [
    "# import tensorflow as tf\n",
    "# import tensorflow.keras as keras\n",
    "# from keras import Model\n",
    "# from keras.layers import Activation, Dense, Dropout, Input\n",
    "# from keras.utils import np_utils\n",
    "\n",
    "def mol2arr(mol):\n",
    "  arr = np.zeros((1,))\n",
    "  fp = AllChem.GetMorganFingerprintAsBitVect(mol, 3)\n",
    "  DataStructs.ConvertToNumpyArray(fp, arr)\n",
    "  return arr\n",
    "  \n",
    "Mdata=pd.read_csv('/content/drive/My Drive/A5Q3DB/train.csv')\n",
    "print(Mdata.columns)\n",
    "\n",
    "Mdata['molecule'] = Mdata['SMILES sequence'].apply(lambda x:Chem.MolFromSmiles(x))\n",
    "Mdata['molecule'] = Mdata['molecule'].apply(lambda x: Chem.AddHs(x))\n",
    "molecules_list=Mdata['molecule']\n",
    "Mdataset= np.array([mol2arr(mol) for mol in molecules_list])\n",
    "print(Mdataset)"
   ]
  },
  {
   "cell_type": "markdown",
   "metadata": {
    "colab_type": "text",
    "id": "mBvmp8LN6wba"
   },
   "source": [
    "## Using Pretrained Model"
   ]
  },
  {
   "cell_type": "code",
   "execution_count": 0,
   "metadata": {
    "colab": {
     "base_uri": "https://localhost:8080/",
     "height": 72
    },
    "colab_type": "code",
    "id": "HycKFJhM2JSC",
    "outputId": "1800812f-3d74-4a26-8bec-3022b0585e6c"
   },
   "outputs": [
    {
     "name": "stderr",
     "output_type": "stream",
     "text": [
      "/usr/local/lib/python3.6/dist-packages/smart_open/smart_open_lib.py:253: UserWarning: This function is deprecated, use smart_open.open instead. See the migration notes for details: https://github.com/RaRe-Technologies/smart_open/blob/master/README.rst#migrating-to-the-new-open-function\n",
      "  'See the migration notes for details: %s' % _MIGRATION_NOTES_URL\n"
     ]
    }
   ],
   "source": [
    "from mol2vec.features import mol2alt_sentence, mol2sentence, MolSentence, DfVec, sentences2vec\n",
    "from gensim.models import word2vec\n",
    "from gensim.models import word2vec\n",
    "model = word2vec.Word2Vec.load('/content/drive/My Drive/model_300dim.pkl')"
   ]
  },
  {
   "cell_type": "code",
   "execution_count": 0,
   "metadata": {
    "colab": {},
    "colab_type": "code",
    "id": "UZgba8r4gWG_"
   },
   "outputs": [],
   "source": [
    "def create_dataset(df):\n",
    "  df['mol'] = df['SMILES sequence'].apply(lambda x: Chem.MolFromSmiles(x))\n",
    "  df['sentence'] = df.apply(lambda x: MolSentence(mol2alt_sentence(x['mol'], 1)), axis=1)\n",
    "  df['mol2vec'] = [DfVec(x) for x in sentences2vec(df['sentence'], model, unseen='UNK')]\n",
    "  dataset= np.array([x.vec for x in df['mol2vec']])\n",
    "  return dataset"
   ]
  },
  {
   "cell_type": "code",
   "execution_count": 0,
   "metadata": {
    "colab": {},
    "colab_type": "code",
    "id": "soHEIqMhgv53"
   },
   "outputs": [],
   "source": [
    "dataset=create_dataset(df)\n",
    "testdataset=create_dataset(testdata)"
   ]
  },
  {
   "cell_type": "code",
   "execution_count": 0,
   "metadata": {
    "colab": {},
    "colab_type": "code",
    "id": "oOfHJRTAxqL1"
   },
   "outputs": [],
   "source": [
    "Finaltest=create_dataset(Finaltestdata)"
   ]
  },
  {
   "cell_type": "markdown",
   "metadata": {
    "colab_type": "text",
    "id": "06RlXv3bLjAg"
   },
   "source": [
    "## MAE and MSE value using only pretrained model and training model as RidgeCV"
   ]
  },
  {
   "cell_type": "code",
   "execution_count": 0,
   "metadata": {
    "colab": {},
    "colab_type": "code",
    "id": "1pQEC1Zdg0di"
   },
   "outputs": [],
   "source": [
    "from sklearn.metrics import mean_absolute_error, mean_squared_error\n",
    "from sklearn.linear_model import RidgeCV\n",
    "from sklearn.model_selection import train_test_split\n",
    "X_train, X_test, y_train, y_test = train_test_split(dataset, target, test_size=.1, random_state=1)\n",
    "def evaluation(model, X_test, y_test):\n",
    "    prediction = model.predict(X_test)\n",
    "    mae = mean_absolute_error(y_test, prediction)\n",
    "    mse = mean_squared_error(y_test, prediction)\n",
    "    return [mae,mse,prediction]\n",
    "ridge = RidgeCV(cv=5)\n",
    "ridge.fit(X_train, y_train)\n",
    "mae,mse,predict_labels=evaluation(ridge, X_test, y_test)"
   ]
  },
  {
   "cell_type": "code",
   "execution_count": 0,
   "metadata": {
    "colab": {},
    "colab_type": "code",
    "id": "4xCJAJq3g90h"
   },
   "outputs": [],
   "source": [
    "print('MAE score:', mae)\n",
    "print('MSE score:', mse)"
   ]
  },
  {
   "cell_type": "code",
   "execution_count": 0,
   "metadata": {
    "colab": {
     "base_uri": "https://localhost:8080/",
     "height": 34
    },
    "colab_type": "code",
    "id": "_C3Md6n1hzU0",
    "outputId": "afb43f5b-16ef-49cb-b777-1a938b90eed8"
   },
   "outputs": [
    {
     "data": {
      "text/plain": [
       "0.626898246059388"
      ]
     },
     "execution_count": 11,
     "metadata": {
      "tags": []
     },
     "output_type": "execute_result"
    }
   ],
   "source": [
    "from sklearn.metrics import r2_score\n",
    "r2_score(y_test,predict_labels)"
   ]
  },
  {
   "cell_type": "markdown",
   "metadata": {
    "colab_type": "text",
    "id": "Ix7LNI6jL0ml"
   },
   "source": [
    "## MAE and MSE value using only pretrained model and training model as SVR"
   ]
  },
  {
   "cell_type": "code",
   "execution_count": 0,
   "metadata": {
    "colab": {
     "base_uri": "https://localhost:8080/",
     "height": 52
    },
    "colab_type": "code",
    "id": "MQZtvJkLow8B",
    "outputId": "4d3ad411-1345-4322-a70e-9c627aa2f173"
   },
   "outputs": [
    {
     "name": "stdout",
     "output_type": "stream",
     "text": [
      "MAE score: 1.6818546639282033\n",
      "MSE score: 5.488813504046821\n"
     ]
    }
   ],
   "source": [
    "from sklearn.metrics import mean_absolute_error, mean_squared_error\n",
    "from sklearn.model_selection import train_test_split\n",
    "from sklearn.svm import SVR\n",
    "\n",
    "def evaluation(model, X_test, y_test):\n",
    "    prediction = model.predict(X_test)\n",
    "    mae = mean_absolute_error(y_test, prediction)\n",
    "    mse = mean_squared_error(y_test, prediction)\n",
    "    return [mae,mse,prediction]\n",
    "\n",
    "X_train, X_test, y_train, y_test = train_test_split(dataset, target, test_size=.1, random_state=2)\n",
    "clf = SVR(kernel='rbf',C=5,epsilon=1)\n",
    "clf.fit(X_train, y_train)\n",
    "mae,mse,predict_labels=evaluation(clf, X_test, y_test)\n",
    "print('MAE score:', mae)\n",
    "print('MSE score:', mse)"
   ]
  },
  {
   "cell_type": "code",
   "execution_count": 0,
   "metadata": {
    "colab": {
     "base_uri": "https://localhost:8080/",
     "height": 52
    },
    "colab_type": "code",
    "id": "Q7t7uXwXijHe",
    "outputId": "aa224dea-2845-4c7c-be75-83d71c92d166"
   },
   "outputs": [
    {
     "name": "stdout",
     "output_type": "stream",
     "text": [
      "[-21.60094211 -19.69661307 -20.79468405 ... -20.02825511 -18.31507426\n",
      " -28.67657895]\n"
     ]
    }
   ],
   "source": [
    "predictLabels=clf.predict(Finaltest)\n",
    "print(predictLabels)"
   ]
  },
  {
   "cell_type": "markdown",
   "metadata": {
    "colab_type": "text",
    "id": "lPUcouYFL8VT"
   },
   "source": [
    "## Creating Submission.csv File"
   ]
  },
  {
   "cell_type": "code",
   "execution_count": 0,
   "metadata": {
    "colab": {},
    "colab_type": "code",
    "id": "sY_kzDfMjTwg"
   },
   "outputs": [],
   "source": [
    "def create_file(predictLabels,testdata):\n",
    "  smiles=testdata['SMILES sequence'] \n",
    "  list_of_tuples = list(zip(smiles, predictLabels))  \n",
    "  sub = pd.DataFrame(list_of_tuples, columns = ['SMILES sequence', 'Binding Affinity'])   \n",
    "  print(sub)\n",
    "  sub.to_csv('submission.csv')"
   ]
  },
  {
   "cell_type": "code",
   "execution_count": 0,
   "metadata": {
    "colab": {
     "base_uri": "https://localhost:8080/",
     "height": 260
    },
    "colab_type": "code",
    "id": "gd9lIjUDjWsH",
    "outputId": "fccf153a-407d-43e3-8497-713cf334523c"
   },
   "outputs": [
    {
     "name": "stdout",
     "output_type": "stream",
     "text": [
      "               SMILES sequence  Binding Affinity\n",
      "0         Cc1ccc(C2CNCCN2C)cc1        -21.600942\n",
      "1             CCOC(CO)c1ccccc1        -19.696613\n",
      "2            CC(=O)Nc1cnn(C)n1        -20.794684\n",
      "3             CCC(C)NCc1ncccn1        -16.424992\n",
      "4              CC(C)=C1CC(N)C1        -19.046919\n",
      "...                        ...               ...\n",
      "2495    N#Cc1ncccc1N1CCC(=O)C1        -24.720667\n",
      "2496       CNCCSCc1cncc(C#N)c1        -12.672911\n",
      "2497   NC1=NC(=O)C(=CC(=O)O)S1        -20.028255\n",
      "2498  C=C(CC)CC(C)C(O)c1ccccc1        -18.315074\n",
      "2499         N#CCC(CN)c1cncnc1        -28.676579\n",
      "\n",
      "[2500 rows x 2 columns]\n"
     ]
    }
   ],
   "source": [
    "create_file(predictLabels,testdata)"
   ]
  },
  {
   "cell_type": "markdown",
   "metadata": {
    "colab_type": "text",
    "id": "-wAKQ9zQmu7J"
   },
   "source": [
    "# Adding more features in initial dataset"
   ]
  },
  {
   "cell_type": "code",
   "execution_count": 0,
   "metadata": {
    "colab": {},
    "colab_type": "code",
    "id": "Aw1bKkzQjbKz"
   },
   "outputs": [],
   "source": [
    "df=pd.read_csv('/content/drive/My Drive/A5Q3DB/train.csv')\n",
    "testdata=pd.read_csv('/content/drive/My Drive/A5Q3DB/test.csv')"
   ]
  },
  {
   "cell_type": "code",
   "execution_count": 0,
   "metadata": {
    "colab": {},
    "colab_type": "code",
    "id": "i77IsOLDyGb_"
   },
   "outputs": [],
   "source": [
    "Finaltestdata=pd.read_csv('/content/drive/My Drive/A5Q3DB/f_test.csv')"
   ]
  },
  {
   "cell_type": "code",
   "execution_count": 0,
   "metadata": {
    "colab": {},
    "colab_type": "code",
    "id": "wtN_80hqm-Cl"
   },
   "outputs": [],
   "source": [
    "def number_of_atoms(atom_list, df):\n",
    "    for i in atom_list:\n",
    "        df['num_of_{}_atoms'.format(i)] = df['molecule'].apply(lambda x: len(x.GetSubstructMatches(Chem.MolFromSmiles(i))))\n",
    "\n",
    "def add_features(df):\n",
    "  df['molecule'] = df['SMILES sequence'].apply(lambda x:Chem.MolFromSmiles(x))\n",
    "  df['molecule'] = df['molecule'].apply(lambda x: Chem.AddHs(x))\n",
    "  df['num_of_atoms'] = df['molecule'].apply(lambda x: x.GetNumAtoms())\n",
    "  df['num_of_heavy_atoms'] = df['molecule'].apply(lambda x: x.GetNumHeavyAtoms())\n",
    "  df['SSSR'] = df['molecule'].apply(lambda x:len(Chem.GetSymmSSSR(x)))\n",
    "  # df['rings1']=df['molecule'].apply(lambda x: x.GetRingInfo().NumAtomRings(1))\n",
    "  df['rings2']=df['molecule'].apply(lambda x: x.GetRingInfo().NumAtomRings(2))\n",
    "  df['in_rings']=df['molecule'].apply(lambda x: x.GetAtomWithIdx(1).IsInRing())\n",
    "  df['ringsize3']=df['molecule'].apply(lambda x: x.GetAtomWithIdx(2).IsInRingSize(3))\n",
    "  df['isAromatic']=df['molecule'].apply(lambda x: x.GetBondWithIdx(1).GetIsAromatic())\n",
    "  df['tpsa'] = df['molecule'].apply(lambda x: Descriptors.TPSA(x))\n",
    "  df['mol_w'] = df['molecule'].apply(lambda x: Descriptors.ExactMolWt(x))\n",
    "  df['num_valence_electrons'] = df['molecule'].apply(lambda x: Descriptors.NumValenceElectrons(x))\n",
    "  # df['num_heteroatoms'] = df['molecule'].apply(lambda x: Descriptors.NumHeteroatoms(x))\n",
    "  # df['num_rotable_bonds'] = df['molecule'].apply(lambda x: Descriptors.NumRotatableBonds(x))\n",
    "  # df['num_amide_bonds'] = df['molecule'].apply(lambda x: Descriptors.NumAmideBonds(x))\n",
    "  # df['num_SpiroAtoms'] = df['molecule'].apply(lambda x: Descriptors.NumSpiroAtoms(x))\n",
    "  df['num_Fraction'] = df['molecule'].apply(lambda x: Descriptors.FractionCSP3(x))\n",
    "  # # df['geometry'] = df['molecule'].apply(lambda x: Descriptors.Autocorr2D(x))\n",
    "  # df['num_BridgeheadAtoms'] = df['molecule'].apply(lambda x: Descriptors.NumBridgeheadAtoms(x))\n",
    "  # df['num_rotable bonds'] = df['molecule'].apply(lambda x: Descriptors.FractionCSP3(x))\n",
    "  number_of_atoms(['C','O', 'N','S', 'Cl'], df)\n",
    "  return df"
   ]
  },
  {
   "cell_type": "code",
   "execution_count": 0,
   "metadata": {
    "colab": {},
    "colab_type": "code",
    "id": "EBN2asyMnMeE"
   },
   "outputs": [],
   "source": [
    "# #EXTRA FEATURES THAT ARE OPTIONAL\n",
    "# fdefName = os.path.join(RDConfig.RDDataDir,'BaseFeatures.fdef')\n",
    "# factory = ChemicalFeatures.BuildFeatureFactory(fdefName)\n",
    "# df['feats'] = df['molecule'].apply(lambda x:len(factory.GetFeaturesForMol(x)))\n",
    "# df['featsfamily'] = df['molecule'].apply(lambda x:factory.GetFeaturesForMol(x)[0].GetFamily())\n",
    "# df['featstype'] = df['molecule'].apply(lambda x:factory.GetFeaturesForMol(x)[0].GetType())\n",
    "# df['feats1family'] = df['molecule'].apply(lambda x:factory.GetFeaturesForMol(x)[1].GetFamily())"
   ]
  },
  {
   "cell_type": "code",
   "execution_count": 0,
   "metadata": {
    "colab": {
     "base_uri": "https://localhost:8080/",
     "height": 52
    },
    "colab_type": "code",
    "id": "VPV7eWpw_hzq",
    "outputId": "11dbd002-0fd7-4ce0-e519-9025f42d177a"
   },
   "outputs": [
    {
     "name": "stdout",
     "output_type": "stream",
     "text": [
      "(9000, 2)\n",
      "(2500, 2)\n"
     ]
    }
   ],
   "source": [
    "print(df.shape)\n",
    "print(testdata.shape)"
   ]
  },
  {
   "cell_type": "code",
   "execution_count": 0,
   "metadata": {
    "colab": {},
    "colab_type": "code",
    "id": "1sVNETzinVEN"
   },
   "outputs": [],
   "source": [
    "df=add_features(df)\n",
    "testdata=add_features(testdata)"
   ]
  },
  {
   "cell_type": "code",
   "execution_count": 0,
   "metadata": {
    "colab": {},
    "colab_type": "code",
    "id": "TSIiXmweyMzg"
   },
   "outputs": [],
   "source": [
    "testData=add_features(Finaltestdata)"
   ]
  },
  {
   "cell_type": "code",
   "execution_count": 0,
   "metadata": {
    "colab": {},
    "colab_type": "code",
    "id": "3SIovKBQnfV9"
   },
   "outputs": [],
   "source": [
    "train_df = df.drop(columns=['SMILES sequence', 'molecule', 'Binding Affinity'])\n",
    "test_df = testdata.drop(columns=['SMILES sequence', 'molecule', 'Binding Affinity'])"
   ]
  },
  {
   "cell_type": "code",
   "execution_count": 0,
   "metadata": {
    "colab": {},
    "colab_type": "code",
    "id": "Tk0JewCZyXxD"
   },
   "outputs": [],
   "source": [
    "final_df=testData.drop(columns=['SMILES sequence', 'molecule', 'Binding Affinity'])"
   ]
  },
  {
   "cell_type": "code",
   "execution_count": 0,
   "metadata": {
    "colab": {
     "base_uri": "https://localhost:8080/",
     "height": 52
    },
    "colab_type": "code",
    "id": "JKJzLf3R__FT",
    "outputId": "fd3920ad-a3d3-42a2-eef3-66d6d0b4c868"
   },
   "outputs": [
    {
     "name": "stdout",
     "output_type": "stream",
     "text": [
      "(9000, 16)\n",
      "(2500, 16)\n"
     ]
    }
   ],
   "source": [
    "print(train_df.shape)\n",
    "print(test_df.shape)"
   ]
  },
  {
   "cell_type": "markdown",
   "metadata": {
    "colab_type": "text",
    "id": "ZnWrDP0dMR_2"
   },
   "source": [
    "## Merging Pretrained Model Dataset and features dataset"
   ]
  },
  {
   "cell_type": "code",
   "execution_count": 0,
   "metadata": {
    "colab": {},
    "colab_type": "code",
    "id": "CzMyFkLengWZ"
   },
   "outputs": [],
   "source": [
    "train_mdf = pd.DataFrame(dataset)\n",
    "train_mdf = pd.concat((train_mdf, train_df), axis=1)\n",
    "test_mdf = pd.DataFrame(testdataset)\n",
    "test_mdf = pd.concat((test_mdf, test_df), axis=1)"
   ]
  },
  {
   "cell_type": "code",
   "execution_count": 0,
   "metadata": {
    "colab": {},
    "colab_type": "code",
    "id": "YgCR-UNOygS0"
   },
   "outputs": [],
   "source": [
    "final_mdf= pd.DataFrame(Finaltest)\n",
    "final_mdf = pd.concat((final_mdf, final_df), axis=1)"
   ]
  },
  {
   "cell_type": "code",
   "execution_count": 0,
   "metadata": {
    "colab": {},
    "colab_type": "code",
    "id": "WBj2rnT8ulCo"
   },
   "outputs": [],
   "source": [
    "# new_df=pd.get_dummies(new_df, prefix=['featsfamily', 'feats1family', 'featstype'])"
   ]
  },
  {
   "cell_type": "code",
   "execution_count": 0,
   "metadata": {
    "colab": {
     "base_uri": "https://localhost:8080/",
     "height": 503
    },
    "colab_type": "code",
    "id": "f7ASOGY9sORa",
    "outputId": "3669356d-8488-4f3a-a04b-71e96090c156"
   },
   "outputs": [
    {
     "name": "stdout",
     "output_type": "stream",
     "text": [
      "             0         1  ...  num_of_S_atoms  num_of_Cl_atoms\n",
      "0    -0.357490 -1.206480  ...               0                0\n",
      "1     1.329632 -1.765945  ...               0                0\n",
      "2     1.047152 -3.901737  ...               1                0\n",
      "3    -0.917391 -1.154516  ...               1                0\n",
      "4     0.685771 -0.099936  ...               1                0\n",
      "...        ...       ...  ...             ...              ...\n",
      "8995 -0.454594 -1.671645  ...               0                0\n",
      "8996  0.666540 -0.541227  ...               1                0\n",
      "8997  0.455289 -0.767791  ...               0                0\n",
      "8998  0.867964 -1.368630  ...               0                0\n",
      "8999 -0.062538 -2.053792  ...               0                0\n",
      "\n",
      "[9000 rows x 316 columns]\n",
      "             0         1  ...  num_of_S_atoms  num_of_Cl_atoms\n",
      "0     2.726033 -2.308697  ...               0                0\n",
      "1     0.281298 -0.838246  ...               0                0\n",
      "2     0.560942 -2.171900  ...               0                0\n",
      "3     0.987049 -2.053180  ...               0                0\n",
      "4    -1.087604 -0.690708  ...               0                0\n",
      "...        ...       ...  ...             ...              ...\n",
      "2495  2.823868 -3.132303  ...               0                0\n",
      "2496  2.456961 -0.830077  ...               1                0\n",
      "2497  0.523055 -2.207347  ...               1                0\n",
      "2498 -1.559530  0.252733  ...               0                0\n",
      "2499  1.489636 -0.128907  ...               0                0\n",
      "\n",
      "[2500 rows x 316 columns]\n"
     ]
    }
   ],
   "source": [
    "print(train_mdf)\n",
    "print(test_mdf)"
   ]
  },
  {
   "cell_type": "code",
   "execution_count": 0,
   "metadata": {
    "colab": {},
    "colab_type": "code",
    "id": "87KVHFmr3eSd"
   },
   "outputs": [],
   "source": [
    "print(final_mdf)"
   ]
  },
  {
   "cell_type": "markdown",
   "metadata": {
    "colab_type": "text",
    "id": "g0-czAd9MeA3"
   },
   "source": [
    "## Different Training Models applied on Merged Dataset"
   ]
  },
  {
   "cell_type": "markdown",
   "metadata": {
    "colab_type": "text",
    "id": "DmgSpOdcMnR3"
   },
   "source": [
    "### RidgeCV"
   ]
  },
  {
   "cell_type": "code",
   "execution_count": 0,
   "metadata": {
    "colab": {},
    "colab_type": "code",
    "id": "OWf0Lf_bnpHu"
   },
   "outputs": [],
   "source": [
    "from sklearn.metrics import mean_absolute_error, mean_squared_error\n",
    "from sklearn.linear_model import RidgeCV\n",
    "from sklearn.model_selection import train_test_split\n",
    "X_train, X_test, y_train, y_test = train_test_split(train_mdf, target, test_size=.1, random_state=1)\n",
    "def evaluation(model, X_test, y_test):\n",
    "    prediction = model.predict(X_test)\n",
    "    mae = mean_absolute_error(y_test, prediction)\n",
    "    mse = mean_squared_error(y_test, prediction)\n",
    "    return [mae,mse,prediction]\n",
    "ridge = RidgeCV(cv=5)\n",
    "ridge.fit(X_train, y_train)\n",
    "mae,mse,predict_labels=evaluation(ridge, X_test, y_test)"
   ]
  },
  {
   "cell_type": "code",
   "execution_count": 0,
   "metadata": {
    "colab": {
     "base_uri": "https://localhost:8080/",
     "height": 52
    },
    "colab_type": "code",
    "id": "gQZCfZ70nzGM",
    "outputId": "a80cc92d-71b1-4b8c-8e1b-921b40b3dfd5"
   },
   "outputs": [
    {
     "name": "stdout",
     "output_type": "stream",
     "text": [
      "MAE score: 1.8464971248863296\n",
      "MSE score: 6.004769388674274\n"
     ]
    }
   ],
   "source": [
    "print('MAE score:', mae)\n",
    "print('MSE score:', mse)"
   ]
  },
  {
   "cell_type": "code",
   "execution_count": 0,
   "metadata": {
    "colab": {
     "base_uri": "https://localhost:8080/",
     "height": 34
    },
    "colab_type": "code",
    "id": "fQDprwrXn8_M",
    "outputId": "68979c45-d845-4236-df30-8d8ed0f1499b"
   },
   "outputs": [
    {
     "data": {
      "text/plain": [
       "0.6036696032690876"
      ]
     },
     "execution_count": 34,
     "metadata": {
      "tags": []
     },
     "output_type": "execute_result"
    }
   ],
   "source": [
    "from sklearn.metrics import r2_score\n",
    "r2_score(y_test,predict_labels)"
   ]
  },
  {
   "cell_type": "markdown",
   "metadata": {
    "colab_type": "text",
    "id": "oI1WQJKzMrDX"
   },
   "source": [
    "### SVR(Support Vector Regression)"
   ]
  },
  {
   "cell_type": "code",
   "execution_count": 0,
   "metadata": {
    "colab": {},
    "colab_type": "code",
    "id": "VG9buihamlEb"
   },
   "outputs": [],
   "source": [
    "from sklearn.svm import SVR\n",
    "X_train, X_test, y_train, y_test = train_test_split(train_mdf, target, test_size=.1, random_state=2)\n",
    "clf = SVR(kernel='linear',C=70)\n",
    "clf.fit(X_train, y_train)\n",
    "mae,mse,predict_labels=evaluation(clf, X_test, y_test)\n",
    "print('MAE score:', mae)\n",
    "print('MSE score:', mse)"
   ]
  },
  {
   "cell_type": "markdown",
   "metadata": {
    "colab_type": "text",
    "id": "BO1fxgTJMx4M"
   },
   "source": [
    "### LSTM"
   ]
  },
  {
   "cell_type": "code",
   "execution_count": 0,
   "metadata": {
    "colab": {},
    "colab_type": "code",
    "id": "KzJL5htnaTNy"
   },
   "outputs": [],
   "source": [
    "from numpy import array\n",
    "from keras.preprocessing.text import Tokenizer\n",
    "from keras.preprocessing.sequence import pad_sequences\n",
    "from keras.models import Sequential\n",
    "from keras.layers import Dense\n",
    "from keras.layers import Flatten\n",
    "from keras.layers.embeddings import Embedding\n",
    "from keras.layers import LSTM\n",
    "from sklearn.model_selection import train_test_split"
   ]
  },
  {
   "cell_type": "code",
   "execution_count": 0,
   "metadata": {
    "colab": {
     "base_uri": "https://localhost:8080/",
     "height": 34
    },
    "colab_type": "code",
    "id": "Rh_DSVnbxc-h",
    "outputId": "0babf88d-8fc0-4823-ea85-245cf5e632e9"
   },
   "outputs": [
    {
     "name": "stdout",
     "output_type": "stream",
     "text": [
      "<class 'numpy.ndarray'>\n"
     ]
    }
   ],
   "source": [
    "X_train=np.array(X_train)\n",
    "X_test=np.array(X_test)\n",
    "y_train=np.array(y_train)\n",
    "y_test=np.array(y_test)\n",
    "print(type(X_train))"
   ]
  },
  {
   "cell_type": "code",
   "execution_count": 0,
   "metadata": {
    "colab": {
     "base_uri": "https://localhost:8080/",
     "height": 52
    },
    "colab_type": "code",
    "id": "EyefKq5raBqp",
    "outputId": "6ba7cfe2-4661-4587-dd2a-a4c6705485db"
   },
   "outputs": [
    {
     "name": "stdout",
     "output_type": "stream",
     "text": [
      "(8100, 1, 316)\n",
      "(2500, 1, 316)\n"
     ]
    }
   ],
   "source": [
    "trainX= np.reshape(X_train,(X_train.shape[0], 1, X_train.shape[1]))\n",
    "print(trainX.shape)\n",
    "test_mdf=np.array(test_mdf)\n",
    "test_data= np.reshape(test_mdf,(test_mdf.shape[0], 1, test_mdf.shape[1]))\n",
    "print(test_data.shape)"
   ]
  },
  {
   "cell_type": "code",
   "execution_count": 0,
   "metadata": {
    "colab": {
     "base_uri": "https://localhost:8080/",
     "height": 34
    },
    "colab_type": "code",
    "id": "q-jfrq6y38Vv",
    "outputId": "4dd8b325-725d-4da1-dd01-b70f10dcd5eb"
   },
   "outputs": [
    {
     "name": "stdout",
     "output_type": "stream",
     "text": [
      "(2500, 1, 316)\n"
     ]
    }
   ],
   "source": [
    "final_mdf=np.array(final_mdf)\n",
    "final_test_data= np.reshape(final_mdf,(final_mdf.shape[0], 1, final_mdf.shape[1]))\n",
    "print(final_test_data.shape)"
   ]
  },
  {
   "cell_type": "code",
   "execution_count": 0,
   "metadata": {
    "colab": {},
    "colab_type": "code",
    "id": "g-qbR9ISgUq2"
   },
   "outputs": [],
   "source": [
    "from keras.layers import Conv1D, MaxPooling1D\n",
    "from keras.layers import Dense, Dropout, Flatten"
   ]
  },
  {
   "cell_type": "code",
   "execution_count": 0,
   "metadata": {
    "colab": {
     "base_uri": "https://localhost:8080/",
     "height": 1000
    },
    "colab_type": "code",
    "id": "mycVvaRfaICm",
    "outputId": "a875917b-7b44-4612-848e-e53366e39194"
   },
   "outputs": [
    {
     "name": "stdout",
     "output_type": "stream",
     "text": [
      "Epoch 1/100\n",
      " - 3s - loss: 33.0612\n",
      "Epoch 2/100\n",
      " - 2s - loss: 8.0999\n",
      "Epoch 3/100\n",
      " - 2s - loss: 7.1076\n",
      "Epoch 4/100\n",
      " - 2s - loss: 6.6825\n",
      "Epoch 5/100\n",
      " - 2s - loss: 6.5333\n",
      "Epoch 6/100\n",
      " - 2s - loss: 6.4220\n",
      "Epoch 7/100\n",
      " - 2s - loss: 6.2564\n",
      "Epoch 8/100\n",
      " - 2s - loss: 6.1186\n",
      "Epoch 9/100\n",
      " - 2s - loss: 6.1123\n",
      "Epoch 10/100\n",
      " - 2s - loss: 6.0379\n",
      "Epoch 11/100\n",
      " - 2s - loss: 6.0606\n",
      "Epoch 12/100\n",
      " - 2s - loss: 5.9187\n",
      "Epoch 13/100\n",
      " - 2s - loss: 5.8151\n",
      "Epoch 14/100\n",
      " - 2s - loss: 5.9437\n",
      "Epoch 15/100\n",
      " - 2s - loss: 5.7572\n",
      "Epoch 16/100\n",
      " - 2s - loss: 5.9869\n",
      "Epoch 17/100\n",
      " - 2s - loss: 5.7274\n",
      "Epoch 18/100\n",
      " - 2s - loss: 5.7586\n",
      "Epoch 19/100\n",
      " - 2s - loss: 5.6753\n",
      "Epoch 20/100\n",
      " - 2s - loss: 5.7174\n",
      "Epoch 21/100\n",
      " - 2s - loss: 5.5919\n",
      "Epoch 22/100\n",
      " - 2s - loss: 5.6035\n",
      "Epoch 23/100\n",
      " - 2s - loss: 5.7145\n",
      "Epoch 24/100\n",
      " - 2s - loss: 5.4607\n",
      "Epoch 25/100\n",
      " - 2s - loss: 5.5654\n",
      "Epoch 26/100\n",
      " - 2s - loss: 5.5634\n",
      "Epoch 27/100\n",
      " - 2s - loss: 5.5946\n",
      "Epoch 28/100\n",
      " - 2s - loss: 5.4467\n",
      "Epoch 29/100\n",
      " - 2s - loss: 5.4860\n",
      "Epoch 30/100\n",
      " - 2s - loss: 5.3612\n",
      "Epoch 31/100\n",
      " - 2s - loss: 5.3233\n",
      "Epoch 32/100\n",
      " - 2s - loss: 5.3564\n",
      "Epoch 33/100\n",
      " - 2s - loss: 5.3545\n",
      "Epoch 34/100\n",
      " - 2s - loss: 5.3455\n",
      "Epoch 35/100\n",
      " - 2s - loss: 5.3269\n",
      "Epoch 36/100\n",
      " - 2s - loss: 5.2632\n",
      "Epoch 37/100\n",
      " - 2s - loss: 5.2284\n",
      "Epoch 38/100\n",
      " - 2s - loss: 5.2069\n",
      "Epoch 39/100\n",
      " - 2s - loss: 5.2292\n",
      "Epoch 40/100\n",
      " - 2s - loss: 5.2918\n",
      "Epoch 41/100\n",
      " - 2s - loss: 5.1151\n",
      "Epoch 42/100\n",
      " - 2s - loss: 5.1327\n",
      "Epoch 43/100\n",
      " - 2s - loss: 5.1790\n",
      "Epoch 44/100\n",
      " - 2s - loss: 5.1231\n",
      "Epoch 45/100\n",
      " - 2s - loss: 5.0880\n",
      "Epoch 46/100\n",
      " - 2s - loss: 5.0201\n",
      "Epoch 47/100\n",
      " - 2s - loss: 5.0908\n",
      "Epoch 48/100\n",
      " - 2s - loss: 4.9653\n",
      "Epoch 49/100\n",
      " - 2s - loss: 5.1221\n",
      "Epoch 50/100\n",
      " - 2s - loss: 4.9102\n",
      "Epoch 51/100\n",
      " - 2s - loss: 5.0379\n",
      "Epoch 52/100\n",
      " - 2s - loss: 5.0136\n",
      "Epoch 53/100\n",
      " - 2s - loss: 4.9201\n",
      "Epoch 54/100\n",
      " - 2s - loss: 4.9738\n",
      "Epoch 55/100\n",
      " - 2s - loss: 4.8130\n",
      "Epoch 56/100\n",
      " - 2s - loss: 4.9115\n",
      "Epoch 57/100\n",
      " - 2s - loss: 4.8879\n",
      "Epoch 58/100\n",
      " - 2s - loss: 4.9314\n",
      "Epoch 59/100\n",
      " - 2s - loss: 5.0140\n",
      "Epoch 60/100\n",
      " - 2s - loss: 4.9107\n",
      "Epoch 61/100\n",
      " - 2s - loss: 5.0276\n",
      "Epoch 62/100\n",
      " - 2s - loss: 4.7815\n",
      "Epoch 63/100\n",
      " - 2s - loss: 4.8448\n",
      "Epoch 64/100\n",
      " - 2s - loss: 4.8163\n",
      "Epoch 65/100\n",
      " - 2s - loss: 4.8333\n",
      "Epoch 66/100\n",
      " - 2s - loss: 4.9681\n",
      "Epoch 67/100\n",
      " - 2s - loss: 4.9282\n",
      "Epoch 68/100\n",
      " - 2s - loss: 4.8595\n",
      "Epoch 69/100\n",
      " - 2s - loss: 4.7553\n",
      "Epoch 70/100\n",
      " - 2s - loss: 4.6886\n",
      "Epoch 71/100\n",
      " - 2s - loss: 4.7756\n",
      "Epoch 72/100\n",
      " - 2s - loss: 4.7896\n",
      "Epoch 73/100\n",
      " - 2s - loss: 4.7265\n",
      "Epoch 74/100\n",
      " - 2s - loss: 4.6868\n",
      "Epoch 75/100\n",
      " - 2s - loss: 4.6879\n",
      "Epoch 76/100\n",
      " - 2s - loss: 4.8304\n",
      "Epoch 77/100\n",
      " - 2s - loss: 4.6498\n",
      "Epoch 78/100\n",
      " - 2s - loss: 4.8016\n",
      "Epoch 79/100\n",
      " - 2s - loss: 4.8008\n",
      "Epoch 80/100\n",
      " - 2s - loss: 4.7481\n",
      "Epoch 81/100\n",
      " - 2s - loss: 4.7677\n",
      "Epoch 82/100\n",
      " - 2s - loss: 4.6112\n",
      "Epoch 83/100\n",
      " - 2s - loss: 4.6397\n",
      "Epoch 84/100\n",
      " - 2s - loss: 4.5607\n",
      "Epoch 85/100\n",
      " - 2s - loss: 4.6313\n",
      "Epoch 86/100\n",
      " - 2s - loss: 4.7538\n",
      "Epoch 87/100\n",
      " - 2s - loss: 4.6374\n",
      "Epoch 88/100\n",
      " - 2s - loss: 4.6698\n",
      "Epoch 89/100\n",
      " - 2s - loss: 4.7011\n",
      "Epoch 90/100\n",
      " - 2s - loss: 4.6607\n",
      "Epoch 91/100\n",
      " - 2s - loss: 4.6642\n",
      "Epoch 92/100\n",
      " - 2s - loss: 4.5175\n",
      "Epoch 93/100\n",
      " - 2s - loss: 4.5779\n",
      "Epoch 94/100\n",
      " - 2s - loss: 4.5707\n",
      "Epoch 95/100\n",
      " - 2s - loss: 4.5708\n",
      "Epoch 96/100\n",
      " - 2s - loss: 4.5674\n",
      "Epoch 97/100\n",
      " - 2s - loss: 4.5460\n",
      "Epoch 98/100\n",
      " - 2s - loss: 4.5443\n",
      "Epoch 99/100\n",
      " - 2s - loss: 4.6018\n",
      "Epoch 100/100\n",
      " - 2s - loss: 4.5935\n"
     ]
    },
    {
     "data": {
      "text/plain": [
       "<keras.callbacks.callbacks.History at 0x7f0b579abe10>"
      ]
     },
     "execution_count": 88,
     "metadata": {
      "tags": []
     },
     "output_type": "execute_result"
    }
   ],
   "source": [
    "model = Sequential()\n",
    "\n",
    "model.add(Conv1D(filters=8, kernel_size=3, padding='same', activation='relu'))\n",
    "\n",
    "model.add(LSTM(200, input_shape=(1,316)))\n",
    "model.add(Dense(64,activation='relu'))\n",
    "# model.add(Dense(32,activation='relu'))\n",
    "model.add(Dense(1))\n",
    "model.compile(loss='mean_squared_error', optimizer='adam')\n",
    "model.fit(trainX, y_train, epochs=100, batch_size=32, verbose=2)"
   ]
  },
  {
   "cell_type": "code",
   "execution_count": 0,
   "metadata": {
    "colab": {
     "base_uri": "https://localhost:8080/",
     "height": 52
    },
    "colab_type": "code",
    "id": "9w9Tae68aQFA",
    "outputId": "1bfc4482-491c-4453-d050-a55ccfcfec71"
   },
   "outputs": [
    {
     "name": "stdout",
     "output_type": "stream",
     "text": [
      "MAE score: 1.7327198859754773\n",
      "MSE score: 5.303172010510516\n"
     ]
    }
   ],
   "source": [
    "testX= np.reshape(X_test,(X_test.shape[0], 1, X_test.shape[1]))\n",
    "testPredict = model.predict(testX)\n",
    "from sklearn.metrics import mean_absolute_error, mean_squared_error\n",
    "mae = mean_absolute_error(y_test, testPredict)\n",
    "mse = mean_squared_error(y_test,testPredict)\n",
    "print('MAE score:', mae)\n",
    "print('MSE score:', mse)"
   ]
  },
  {
   "cell_type": "code",
   "execution_count": 0,
   "metadata": {
    "colab": {
     "base_uri": "https://localhost:8080/",
     "height": 34
    },
    "colab_type": "code",
    "id": "d0PzLcchcDoC",
    "outputId": "bf56847c-ad21-4c1f-bb88-3e5bd45b2809"
   },
   "outputs": [
    {
     "data": {
      "text/plain": [
       "0.6497057786267144"
      ]
     },
     "execution_count": 90,
     "metadata": {
      "tags": []
     },
     "output_type": "execute_result"
    }
   ],
   "source": [
    "from sklearn.metrics import r2_score\n",
    "r2_score(y_test,testPredict)"
   ]
  },
  {
   "cell_type": "code",
   "execution_count": 0,
   "metadata": {
    "colab": {},
    "colab_type": "code",
    "id": "pT5-WYjmktDp"
   },
   "outputs": [],
   "source": [
    "predict_labels = model.predict(test_data)\n"
   ]
  },
  {
   "cell_type": "code",
   "execution_count": 0,
   "metadata": {
    "colab": {},
    "colab_type": "code",
    "id": "SEMLgI7F4XoV"
   },
   "outputs": [],
   "source": [
    "final_predict_labels = model.predict(final_test_data)"
   ]
  },
  {
   "cell_type": "code",
   "execution_count": 0,
   "metadata": {
    "colab": {
     "base_uri": "https://localhost:8080/",
     "height": 139
    },
    "colab_type": "code",
    "id": "YUWV0Cja8Iih",
    "outputId": "ecf02fa6-4a5b-4dfb-9bb2-58ad73f845a1"
   },
   "outputs": [
    {
     "name": "stdout",
     "output_type": "stream",
     "text": [
      "[[-21.732592]\n",
      " [-19.39044 ]\n",
      " [-20.75262 ]\n",
      " ...\n",
      " [-20.16827 ]\n",
      " [-18.137794]\n",
      " [-25.845291]]\n"
     ]
    }
   ],
   "source": [
    "print(final_predict_labels)"
   ]
  },
  {
   "cell_type": "code",
   "execution_count": 0,
   "metadata": {
    "colab": {
     "base_uri": "https://localhost:8080/",
     "height": 260
    },
    "colab_type": "code",
    "id": "zSKI7LB9CEVG",
    "outputId": "5851d99b-ca5d-4cdb-ca72-2d09dbadbcaf"
   },
   "outputs": [
    {
     "name": "stdout",
     "output_type": "stream",
     "text": [
      "              SMILES sequence  Binding Affinity\n",
      "0         CNC(=O)N(C)c1ncccn1        -21.732592\n",
      "1      O=C(Cc1ccccc1)c1ccccn1        -19.390440\n",
      "2                NC1C2CCSCC12        -20.752621\n",
      "3      CCC(C)C(N)(CC)c1ccccc1        -17.209328\n",
      "4      N#Cc1cccc(C2OCCC2=O)n1        -20.115131\n",
      "...                       ...               ...\n",
      "2495    CC(N)C(C)Nc1ncccc1C#N        -26.213448\n",
      "2496     CCCCOc1ccccc1C(=O)OC        -13.094802\n",
      "2497            NN1CC2CCCC1C2        -20.168270\n",
      "2498  CN1CCC(C(=O)O)c2ccccc21        -18.137794\n",
      "2499        NCC(=O)Nc1ncncc1N        -25.845291\n",
      "\n",
      "[2500 rows x 2 columns]\n"
     ]
    }
   ],
   "source": [
    "final_predicted=[]\n",
    "for i in range(0,len(final_predict_labels)):\n",
    "  final_predicted.append(final_predict_labels[i][0])\n",
    "create_file(final_predicted,Finaltestdata)"
   ]
  },
  {
   "cell_type": "code",
   "execution_count": 0,
   "metadata": {
    "colab": {},
    "colab_type": "code",
    "id": "mqihEFe7ClfB"
   },
   "outputs": [],
   "source": []
  }
 ],
 "metadata": {
  "colab": {
   "name": "COVID19TL.ipynb",
   "provenance": [],
   "toc_visible": true
  },
  "kernelspec": {
   "display_name": "Python 3",
   "language": "python",
   "name": "python3"
  },
  "language_info": {
   "codemirror_mode": {
    "name": "ipython",
    "version": 3
   },
   "file_extension": ".py",
   "mimetype": "text/x-python",
   "name": "python",
   "nbconvert_exporter": "python",
   "pygments_lexer": "ipython3",
   "version": "3.6.9"
  }
 },
 "nbformat": 4,
 "nbformat_minor": 1
}
